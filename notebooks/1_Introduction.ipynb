{
 "cells": [
  {
   "cell_type": "markdown",
   "metadata": {},
   "source": [
    "# Jupyter Notebook\n",
    "\n",
    "This shows how a jupyter notebook works.  It uses markdown. \n",
    "It is also a way for you to help learn content. It merges documentation, code, and visualizations to create a compelling story.\n",
    "\n",
    "* One\n",
    "* Two\n",
    "* Three\n",
    "\n",
    "This is a footnote.  ^1\n",
    "\n",
    "\n",
    "Ancillary\n",
    ": An additional component that is important\n",
    "\n",
    "~~This should strikethrough~~\n",
    "\n",
    "A Table\n",
    "\n",
    "| Column 1 | Column 2 |\n",
    "| ---------|----------|\n",
    "| One      | `1`      |\n",
    "| Two      | `2`      |\n",
    "\n",
    "\n",
    "- [X] One\n",
    "- [ ] Two\n",
    "- [ ] Three\n",
    "\n",
    "\n",
    "[^1]  Please refer to the guidelines"
   ]
  }
 ],
 "metadata": {
  "kernelspec": {
   "display_name": "Python 3",
   "language": "python",
   "name": "python3"
  },
  "language_info": {
   "codemirror_mode": {
    "name": "ipython",
    "version": 3
   },
   "file_extension": ".py",
   "mimetype": "text/x-python",
   "name": "python",
   "nbconvert_exporter": "python",
   "pygments_lexer": "ipython3",
   "version": "3.7.5"
  }
 },
 "nbformat": 4,
 "nbformat_minor": 2
}
