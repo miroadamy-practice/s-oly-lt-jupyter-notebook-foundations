{
 "cells": [
  {
   "cell_type": "markdown",
   "metadata": {},
   "source": [
    "# Jupyter Notebook\n",
    "\n",
    "This shows how a jupyter notebook works.  It uses markdown. \n",
    "It is also a way for you to help learn content. It merges documentation, code, and visualizations to create a compelling story. "
   ]
  },
  {
   "cell_type": "markdown",
   "metadata": {},
   "source": [
    "## Cell Manipulation"
   ]
  },
  {
   "cell_type": "markdown",
   "metadata": {},
   "source": [
    "### Basic Keyboard\n",
    "\n",
    "* **C** Copy\n",
    "* **X** Cut\n",
    "* **V** Paste\n",
    "* **Z** Redo"
   ]
  },
  {
   "cell_type": "markdown",
   "metadata": {},
   "source": [
    "### Evaluating Cells\n",
    "\n",
    "* When editing a cell you are in _Edit mode_\n",
    "* When are done editing and you run the cell you will be in _Command Mode_\n",
    "* You have diffent flavors of running cells\n",
    "  * ⇧↩ or **SHIFT + ENTER** run cell, select below\n",
    "  * ⌃↩ or **CTRL + ENTER** run selected cells\n",
    "  * ⌥↩ or **OPTION + ENTER** run cell and insert below"
   ]
  },
  {
   "cell_type": "code",
   "execution_count": null,
   "metadata": {
    "ExecuteTime": {
     "end_time": "2020-01-03T19:31:19.879794Z",
     "start_time": "2020-01-03T19:31:19.871007Z"
    }
   },
   "outputs": [],
   "source": [
    "a = 10"
   ]
  },
  {
   "cell_type": "markdown",
   "metadata": {},
   "source": [
    "### Adding Cells\n",
    "\n",
    "* A Cell above can be created by pressing **A** in Command Mode\n",
    "* A Cell below can be created by pressing **B** in Command Mode"
   ]
  },
  {
   "cell_type": "code",
   "execution_count": null,
   "metadata": {},
   "outputs": [],
   "source": []
  },
  {
   "cell_type": "markdown",
   "metadata": {},
   "source": [
    "### Deleting Cells\n",
    "\n",
    "A cell can be deleted with **D,D**"
   ]
  },
  {
   "cell_type": "code",
   "execution_count": null,
   "metadata": {
    "ExecuteTime": {
     "end_time": "2020-01-03T19:31:19.896916Z",
     "start_time": "2020-01-03T19:31:19.888698Z"
    }
   },
   "outputs": [],
   "source": [
    "print(\"Hello\")"
   ]
  },
  {
   "cell_type": "code",
   "execution_count": null,
   "metadata": {
    "ExecuteTime": {
     "end_time": "2020-01-03T19:31:19.915339Z",
     "start_time": "2020-01-03T19:31:19.900757Z"
    }
   },
   "outputs": [],
   "source": [
    "print(\"World\")"
   ]
  },
  {
   "cell_type": "markdown",
   "metadata": {},
   "source": [
    "### Splitting Cells\n",
    "\n",
    "A cell can be split in _Edit Mode_ using **⌃⇧Minus** or **CTRL+SHIFT+MINUS**\n",
    "\n",
    "### Merging Cells\n",
    "\n",
    "A cell can be merged in _Command Mode_ after selecting multiple cells using **⇧M** or **SHIFT+M**"
   ]
  },
  {
   "cell_type": "code",
   "execution_count": null,
   "metadata": {
    "ExecuteTime": {
     "end_time": "2020-01-03T19:31:19.933375Z",
     "start_time": "2020-01-03T19:31:19.922314Z"
    }
   },
   "outputs": [],
   "source": [
    "a = 30\n",
    "b = 10"
   ]
  },
  {
   "cell_type": "markdown",
   "metadata": {},
   "source": [
    "## Types of Cells\n",
    "\n",
    "Cells can either be:\n",
    "\n",
    "* **Markdown -** Using markdown to create documentation cells\n",
    "* **Code -** Cells representing code, runnable\n",
    "* **Raw -** Cells with no formatting, and no interpretation since it is not code"
   ]
  },
  {
   "cell_type": "markdown",
   "metadata": {},
   "source": [
    "## Markdown"
   ]
  },
  {
   "cell_type": "markdown",
   "metadata": {},
   "source": [
    "### Bullet Lists\n",
    "\n",
    "* One\n",
    "* Two\n",
    "* Three"
   ]
  },
  {
   "cell_type": "markdown",
   "metadata": {},
   "source": [
    "### Strikethrough\n",
    "\n",
    "~~This should strikethrough~~"
   ]
  },
  {
   "cell_type": "markdown",
   "metadata": {},
   "source": [
    "### Tables\n",
    "\n",
    "The following is a table\n",
    "\n",
    "| Column 1 | Column 2 |\n",
    "| ---------|----------|\n",
    "| One      | `1`      |\n",
    "| Two      | `2`      |"
   ]
  },
  {
   "cell_type": "markdown",
   "metadata": {},
   "source": [
    "### Checkboxes \n",
    "\n",
    "You can have displayed checkboxes, although Jupyter notebooks has widgets that do a better job.\n",
    "\n",
    "- [X] One\n",
    "- [ ] Two\n",
    "- [ ] Three"
   ]
  },
  {
   "cell_type": "markdown",
   "metadata": {},
   "source": [
    "### Carriage Returns\n",
    "\n",
    "Carriage Returns can be done with two spaces at the end of the line:\n",
    "\n",
    "<hr>\n",
    "\n",
    "Space, The final frontier  \n",
    "These are the voyages of Starship Enterprise  \n",
    "In its continuing missions  \n",
    "To seek out new life, and new civilization  \n",
    "To boldly go where no one has gone before  \n",
    "\n",
    "<hr>"
   ]
  },
  {
   "cell_type": "markdown",
   "metadata": {},
   "source": [
    "### Code\n",
    "\n",
    "Inline `code` has `back-ticks around` it.\n",
    "\n",
    "Block `code` has triple tick marks around it, and an optional language which offers syntax highligting\n",
    "\n",
    "```python\n",
    "s = \"Python syntax highlighting\"\n",
    "print s\n",
    "```\n",
    "\n",
    "You can also indent four spaces\n",
    "\n",
    "    def main() {\n",
    "        print(\"Hello\")\n",
    "    }\n",
    "\n",
    "**NOTE:** Some markdown features do not work. This include footnotes and ancillary comments"
   ]
  },
  {
   "cell_type": "markdown",
   "metadata": {},
   "source": [
    "### Displaying Images\n",
    "\n",
    "#### Displaying images in the markdown cells \n",
    "\n",
    "Use standard markdown to display images: The following uses markdown to display the image\n",
    "\n",
    "![Jupyter_Logo](https://jupyter.org/assets/main-logo.svg \"Jupyter Logo\")"
   ]
  },
  {
   "cell_type": "markdown",
   "metadata": {},
   "source": [
    "## $\\LaTeX$ \n",
    "\n",
    "We can also have formulas by flanking dollar signs around a Latex formula.  See cheatsheet for more options https://wch.github.io/latexsheet/ or go see the following cells.  For example, $e=mc^2$"
   ]
  },
  {
   "cell_type": "markdown",
   "metadata": {},
   "source": [
    "**TIP:** Import images from the web for a nice cheatsheet\n",
    "\n",
    "![latex_0](https://wch.github.io/latexsheet/latexsheet-0.png)\n",
    "![latex_1](https://wch.github.io/latexsheet/latexsheet-1.png)"
   ]
  },
  {
   "cell_type": "markdown",
   "metadata": {},
   "source": [
    "Here is a $\\LaTeX$ example that will make us look and feel really smart: $\\idotsint_V \\mu(u_1,\\dots,u_k) \\,du_1 \\dots du_k$ and $\\sum_{n=1}^{\\infty} 2^{-n} = 1$"
   ]
  },
  {
   "cell_type": "markdown",
   "metadata": {},
   "source": [
    "## Code\n",
    "\n",
    "Turn on code by typing 'Y' on a cell.  The cell below is already a code cell. There is nothing that you need to do, but if you were to create your own cells, and you want to ensure that it is for creating code, then hit 'Y'"
   ]
  },
  {
   "cell_type": "code",
   "execution_count": null,
   "metadata": {
    "ExecuteTime": {
     "end_time": "2020-01-03T19:31:19.952711Z",
     "start_time": "2020-01-03T19:31:19.941364Z"
    }
   },
   "outputs": [],
   "source": [
    "print('foo')"
   ]
  },
  {
   "cell_type": "markdown",
   "metadata": {},
   "source": [
    "### Evaluating Code in Jupyter Notebooks\n",
    "\n",
    "The last statement in a cell will be evaluated and displayed underneath the cell. `In` represents the input, and `Out` represents the output."
   ]
  },
  {
   "cell_type": "code",
   "execution_count": null,
   "metadata": {
    "ExecuteTime": {
     "end_time": "2020-01-03T19:31:19.980166Z",
     "start_time": "2020-01-03T19:31:19.956299Z"
    }
   },
   "outputs": [],
   "source": [
    "a = 10\n",
    "b = 50\n",
    "a + b"
   ]
  },
  {
   "cell_type": "markdown",
   "metadata": {},
   "source": [
    "If there is no return type, or a function that is a side-effect then you will not receive an output"
   ]
  },
  {
   "cell_type": "code",
   "execution_count": null,
   "metadata": {
    "ExecuteTime": {
     "end_time": "2020-01-03T19:31:19.989999Z",
     "start_time": "2020-01-03T19:31:19.984807Z"
    }
   },
   "outputs": [],
   "source": [
    "c = 40"
   ]
  },
  {
   "cell_type": "code",
   "execution_count": null,
   "metadata": {
    "ExecuteTime": {
     "end_time": "2020-01-03T19:31:19.998827Z",
     "start_time": "2020-01-03T19:31:19.993079Z"
    }
   },
   "outputs": [],
   "source": [
    "print(\"This will print, but notice no Out[Num]\")"
   ]
  },
  {
   "cell_type": "markdown",
   "metadata": {},
   "source": [
    "### Tooltips\n",
    "\n",
    "Tooltips can be perform by using the **SHIFT+TAB** key as long as your cursor is in the method name. Try it below by putting the cursor inside the `print` and hitting **SHIFT+TAB**. Try it once, twice, three, and four times!"
   ]
  },
  {
   "cell_type": "code",
   "execution_count": null,
   "metadata": {
    "ExecuteTime": {
     "end_time": "2020-01-03T19:31:20.008158Z",
     "start_time": "2020-01-03T19:31:20.002478Z"
    }
   },
   "outputs": [],
   "source": [
    "print('foo')"
   ]
  },
  {
   "cell_type": "markdown",
   "metadata": {},
   "source": [
    "### Code Completion\n",
    "\n",
    "Code completion offers choices for methods and variables that you would like to use.  To invoke a code completion, hit **TAB** after establishing an assignment"
   ]
  },
  {
   "cell_type": "code",
   "execution_count": null,
   "metadata": {
    "ExecuteTime": {
     "end_time": "2020-01-03T19:31:20.020664Z",
     "start_time": "2020-01-03T19:31:20.013759Z"
    }
   },
   "outputs": [],
   "source": [
    "my_string = \"Hello to Jupyter!\"\n",
    "my_string"
   ]
  },
  {
   "cell_type": "markdown",
   "metadata": {},
   "source": [
    "### Images in Code Cells\n",
    "\n",
    "You can display other images using code. You can include an image from a file or from a URL."
   ]
  },
  {
   "cell_type": "code",
   "execution_count": null,
   "metadata": {
    "ExecuteTime": {
     "end_time": "2020-01-03T19:31:20.703006Z",
     "start_time": "2020-01-03T19:31:20.023245Z"
    }
   },
   "outputs": [],
   "source": [
    "from IPython.display import Image, display\n",
    "url = 'https://upload.wikimedia.org/wikipedia/commons/thumb/0/0a/Python.svg/1024px-Python.svg.png'\n",
    "display(Image(url, width='20%', height='20%')) "
   ]
  },
  {
   "cell_type": "markdown",
   "metadata": {},
   "source": [
    "### Line Numbers\n",
    "\n",
    "**L** will toggle line numbers in a code cell you have selected.  \n",
    "**⇧L** or **SHIFT+L** will toggle line numbers in all code and raw cells in your jupyter notebook"
   ]
  },
  {
   "cell_type": "code",
   "execution_count": null,
   "metadata": {
    "ExecuteTime": {
     "end_time": "2020-01-03T19:31:20.715975Z",
     "start_time": "2020-01-03T19:31:20.705037Z"
    }
   },
   "outputs": [],
   "source": [
    "a = 10\n",
    "b = 50\n",
    "a + b"
   ]
  },
  {
   "cell_type": "markdown",
   "metadata": {},
   "source": [
    "## Raw\n",
    "\n",
    "Raw cells don't do much, it isn't code, nor is formatted text. It is just raw data. You can change a cell to raw, by pressing **R** on the cell.\n",
    "\n",
    "**TIP:** Use Raw format for a cell to comment it out, but leave it around in case you need it."
   ]
  },
  {
   "cell_type": "raw",
   "metadata": {},
   "source": [
    "def not_sure_about_this():\n",
    "    for item in items:\n",
    "        bits = []\n",
    "\n",
    "        try:\n",
    "            bits.append(str(item['item'].attr_x))\n",
    "        except:\n",
    "            bits.append('ERR')\n",
    "\n",
    "        try:\n",
    "            bits.append(str(item['item'].attr_x.attr_x))\n",
    "        except:\n",
    "            bits.append('ERR')\n",
    "\n",
    "        \n",
    "        output.append('\"{line}\"'.format(line='\",\"'.join([s.replace('\"', \"'\") for s in bits])))"
   ]
  },
  {
   "cell_type": "markdown",
   "metadata": {},
   "source": [
    "## Python Programming\n",
    "\n",
    "Python is the preferred language for data science and in Jupyter Notebooks. Let's start with a slight introduction. Of course O'Reilly Media has various books and courses on Python that you can use inside of a Jupyter Notebook."
   ]
  },
  {
   "cell_type": "code",
   "execution_count": null,
   "metadata": {
    "ExecuteTime": {
     "end_time": "2020-01-03T19:31:20.727364Z",
     "start_time": "2020-01-03T19:31:20.719315Z"
    }
   },
   "outputs": [],
   "source": [
    "nums = [1,2,3,4,5,6]\n",
    "nums"
   ]
  },
  {
   "cell_type": "markdown",
   "metadata": {},
   "source": [
    "### Using Numpy \n",
    "\n",
    "Numpy is high performance, C backed number crunching framework"
   ]
  },
  {
   "cell_type": "code",
   "execution_count": null,
   "metadata": {
    "ExecuteTime": {
     "end_time": "2020-01-03T19:31:21.311134Z",
     "start_time": "2020-01-03T19:31:20.731380Z"
    }
   },
   "outputs": [],
   "source": [
    "import numpy as np\n",
    "numpy_array = np.array([1,2,3,4,5])\n",
    "numpy_array"
   ]
  },
  {
   "cell_type": "markdown",
   "metadata": {},
   "source": [
    "### Using Pandas\n",
    "\n",
    "Pandas is a library to manipulate data. It stands for \"Panel Data\".  \n",
    "\n",
    "#### `pd.Series`\n",
    "\n",
    "A series is an optimized list in Python which has labels associated with the elements."
   ]
  },
  {
   "cell_type": "code",
   "execution_count": null,
   "metadata": {
    "ExecuteTime": {
     "end_time": "2020-01-03T19:31:23.304986Z",
     "start_time": "2020-01-03T19:31:21.317348Z"
    }
   },
   "outputs": [],
   "source": [
    "import pandas as pd\n",
    "population = pd.Series([1_433_783_686,\n",
    "                        1_366_417_754,\n",
    "                        329_064_917,\n",
    "                        270_625_568,\n",
    "                        216_565_318], \n",
    "         \n",
    "                       index = ['China', \n",
    "                                'India', \n",
    "                                'United States', \n",
    "                                'Indonesia', \n",
    "                                'Pakistan'])\n",
    "population"
   ]
  },
  {
   "cell_type": "markdown",
   "metadata": {},
   "source": [
    "Here is an example of that Series with different labels"
   ]
  },
  {
   "cell_type": "code",
   "execution_count": null,
   "metadata": {
    "ExecuteTime": {
     "end_time": "2020-01-03T19:31:23.336917Z",
     "start_time": "2020-01-03T19:31:23.319446Z"
    }
   },
   "outputs": [],
   "source": [
    "import pandas as pd\n",
    "area_sq_km = pd.Series([16_376_870,\n",
    "                        9_388_211,\n",
    "                        9_147_420,\n",
    "                        9_093_510,\n",
    "                        8_358_140], \n",
    "                       index = ['Russia', \n",
    "                                'China', \n",
    "                                'United States', \n",
    "                                'Canada', \n",
    "                                'Brazil'])\n",
    "area_sq_km"
   ]
  },
  {
   "cell_type": "markdown",
   "metadata": {},
   "source": [
    "#### `pd.DataFrame` \n",
    "\n",
    "`DataFrame` is of the Pandas package and it combines multiple `Series` into a `DataFrame`. It is analogous to a small Excel sheet."
   ]
  },
  {
   "cell_type": "code",
   "execution_count": null,
   "metadata": {
    "ExecuteTime": {
     "end_time": "2020-01-03T19:31:23.433542Z",
     "start_time": "2020-01-03T19:31:23.343927Z"
    }
   },
   "outputs": [],
   "source": [
    "country_df = pd.DataFrame([area_sq_km, population], index= ['Area (km²)', 'Population'])\n",
    "country_df"
   ]
  },
  {
   "cell_type": "markdown",
   "metadata": {},
   "source": [
    "There are a whole lot of great things we can do with Pandas like drop empty values and transpose.  Here is an example."
   ]
  },
  {
   "cell_type": "code",
   "execution_count": null,
   "metadata": {
    "ExecuteTime": {
     "end_time": "2020-01-03T19:31:23.477027Z",
     "start_time": "2020-01-03T19:31:23.442717Z"
    }
   },
   "outputs": [],
   "source": [
    "flipped_country_df = country_df.transpose()\n",
    "flipped_country_df"
   ]
  },
  {
   "cell_type": "code",
   "execution_count": null,
   "metadata": {
    "ExecuteTime": {
     "end_time": "2020-01-03T19:31:23.585629Z",
     "start_time": "2020-01-03T19:31:23.533787Z"
    }
   },
   "outputs": [],
   "source": [
    "big_pop_big_area = flipped_country_df.dropna()\n",
    "big_pop_big_area"
   ]
  },
  {
   "cell_type": "markdown",
   "metadata": {},
   "source": [
    "### Bringing in data from a source"
   ]
  },
  {
   "cell_type": "code",
   "execution_count": null,
   "metadata": {
    "ExecuteTime": {
     "end_time": "2020-01-03T19:31:24.395136Z",
     "start_time": "2020-01-03T19:31:23.590861Z"
    }
   },
   "outputs": [],
   "source": [
    "import pandas as pd\n",
    "\n",
    "real_population = pd.read_csv('https://raw.githubusercontent.com/datasets/population/master/data/population.csv')\n",
    "real_population\n",
    "\n",
    "\n"
   ]
  },
  {
   "cell_type": "markdown",
   "metadata": {},
   "source": [
    "### Accessing columns"
   ]
  },
  {
   "cell_type": "code",
   "execution_count": null,
   "metadata": {
    "ExecuteTime": {
     "end_time": "2020-01-03T19:31:24.423437Z",
     "start_time": "2020-01-03T19:31:24.411946Z"
    }
   },
   "outputs": [],
   "source": [
    "real_population['Year']"
   ]
  },
  {
   "cell_type": "markdown",
   "metadata": {},
   "source": [
    "### Another way to go about retaining a column"
   ]
  },
  {
   "cell_type": "code",
   "execution_count": null,
   "metadata": {
    "ExecuteTime": {
     "end_time": "2020-01-03T19:31:24.441126Z",
     "start_time": "2020-01-03T19:31:24.427559Z"
    }
   },
   "outputs": [],
   "source": [
    "real_population.Year"
   ]
  },
  {
   "cell_type": "markdown",
   "metadata": {},
   "source": [
    "### What are the differences?\n",
    "\n",
    "1. Using brackets is great if you specifically want the column and want to avoid conflicts between column name and method a name\n",
    "2. Using the period style, is great when you need the help of auto-completion. Try erasing 'Year' above and use code completion"
   ]
  },
  {
   "cell_type": "markdown",
   "metadata": {},
   "source": [
    "## Filtering\n",
    "\n",
    "To filter data, use a process called masking to filter out content, but first let's ask it to only show data after 2010."
   ]
  },
  {
   "cell_type": "code",
   "execution_count": null,
   "metadata": {
    "ExecuteTime": {
     "end_time": "2020-01-03T19:31:24.458031Z",
     "start_time": "2020-01-03T19:31:24.446889Z"
    }
   },
   "outputs": [],
   "source": [
    "real_population.Year > 2010"
   ]
  },
  {
   "cell_type": "markdown",
   "metadata": {},
   "source": [
    "### Filtering using a process called masking\n",
    "\n",
    "To actually perform the actual filtering we can \"re-feed the above results back in."
   ]
  },
  {
   "cell_type": "code",
   "execution_count": null,
   "metadata": {
    "ExecuteTime": {
     "end_time": "2020-01-03T19:31:24.529728Z",
     "start_time": "2020-01-03T19:31:24.460864Z"
    }
   },
   "outputs": [],
   "source": [
    "real_population[real_population.Year > 2010]"
   ]
  },
  {
   "cell_type": "markdown",
   "metadata": {},
   "source": [
    "### Going deeper into Data Engineering and Data Science\n",
    "\n",
    "There is a rich environment for doing data filtering, grouping, and numerical operations. If you love this, then definitely get a copy of these books:\n",
    "\n",
    "Hands-On Machine Learning with Scikit-Learn, Keras, and TensorFlow, 2nd Edition  \n",
    "by Aurélien Géron  \n",
    "Publisher: O'Reilly Media, Inc.  \n",
    "Release Date: September 2019  \n",
    "ISBN: 9781492032649  \n",
    "  \n",
    "![Hands_On](https://learning.oreilly.com/library/cover/9781492032632/)"
   ]
  },
  {
   "cell_type": "markdown",
   "metadata": {},
   "source": [
    "Python Data Science Handbook  \n",
    "by Jake VanderPlas  \n",
    "Publisher: O'Reilly Media, Inc.  \n",
    "Release Date: November 2016  \n",
    "ISBN: 9781491912058  \n",
    "\n",
    "![Python_Data_Science_Handbook](https://learning.oreilly.com/library/cover/9781491912126/)"
   ]
  }
 ],
 "metadata": {
  "kernelspec": {
   "display_name": "Python 3",
   "language": "python",
   "name": "python3"
  },
  "language_info": {
   "codemirror_mode": {
    "name": "ipython",
    "version": 3
   },
   "file_extension": ".py",
   "mimetype": "text/x-python",
   "name": "python",
   "nbconvert_exporter": "python",
   "pygments_lexer": "ipython3",
   "version": "3.7.5"
  },
  "toc": {
   "base_numbering": 1,
   "nav_menu": {},
   "number_sections": true,
   "sideBar": true,
   "skip_h1_title": false,
   "title_cell": "Table of Contents",
   "title_sidebar": "Contents",
   "toc_cell": false,
   "toc_position": {},
   "toc_section_display": true,
   "toc_window_display": false
  }
 },
 "nbformat": 4,
 "nbformat_minor": 2
}
