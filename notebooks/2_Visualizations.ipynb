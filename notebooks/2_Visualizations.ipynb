{
 "cells": [
  {
   "cell_type": "markdown",
   "metadata": {
    "slideshow": {
     "slide_type": "slide"
    }
   },
   "source": [
    "# Visualizations"
   ]
  },
  {
   "cell_type": "markdown",
   "metadata": {
    "slideshow": {
     "slide_type": "slide"
    }
   },
   "source": [
    "Importing some required packages.  `%matplotlib` is a directive to show plots in the notebook. These are standard imports required for display."
   ]
  },
  {
   "cell_type": "code",
   "execution_count": null,
   "metadata": {
    "ExecuteTime": {
     "end_time": "2020-01-03T19:32:38.199088Z",
     "start_time": "2020-01-03T19:32:37.244634Z"
    },
    "slideshow": {
     "slide_type": "subslide"
    }
   },
   "outputs": [],
   "source": [
    "%matplotlib inline\n",
    "import matplotlib.pyplot as plt\n",
    "import numpy as np"
   ]
  },
  {
   "cell_type": "markdown",
   "metadata": {
    "slideshow": {
     "slide_type": "slide"
    }
   },
   "source": [
    "Creating a plural of numbers"
   ]
  },
  {
   "cell_type": "code",
   "execution_count": null,
   "metadata": {
    "ExecuteTime": {
     "end_time": "2020-01-03T19:32:38.411842Z",
     "start_time": "2020-01-03T19:32:38.203619Z"
    },
    "slideshow": {
     "slide_type": "subslide"
    }
   },
   "outputs": [],
   "source": [
    "x = np.arange(0, 10, .5)\n",
    "y = x ** 2\n",
    "\n",
    "plt.plot(x,y);"
   ]
  },
  {
   "cell_type": "markdown",
   "metadata": {
    "slideshow": {
     "slide_type": "slide"
    }
   },
   "source": [
    "Same data except with a scatter plot"
   ]
  },
  {
   "cell_type": "code",
   "execution_count": null,
   "metadata": {
    "ExecuteTime": {
     "end_time": "2020-01-03T19:32:38.629706Z",
     "start_time": "2020-01-03T19:32:38.416163Z"
    },
    "slideshow": {
     "slide_type": "subslide"
    }
   },
   "outputs": [],
   "source": [
    "x = np.arange(0, 10, .5)\n",
    "y = x ** 2\n",
    "\n",
    "plt.scatter(x,y);"
   ]
  },
  {
   "cell_type": "markdown",
   "metadata": {
    "slideshow": {
     "slide_type": "slide"
    }
   },
   "source": [
    "Same kind of plot but with `linspace`, use Jupyter's tooltip to see what `linspace` does."
   ]
  },
  {
   "cell_type": "code",
   "execution_count": null,
   "metadata": {
    "ExecuteTime": {
     "end_time": "2020-01-03T19:32:38.809518Z",
     "start_time": "2020-01-03T19:32:38.632417Z"
    },
    "slideshow": {
     "slide_type": "fragment"
    }
   },
   "outputs": [],
   "source": [
    "x = np.linspace(0, 10, 50)\n",
    "y = x ** 2\n",
    "\n",
    "plt.plot(x, y);"
   ]
  },
  {
   "cell_type": "markdown",
   "metadata": {
    "slideshow": {
     "slide_type": "fragment"
    }
   },
   "source": [
    "Here we are loading some sample data from scikit learn, you can bring in data from whatever kind of datasource that you would like. This is already a part of the scikitlearn library. `load_iris` returns a Python dictionary.\n",
    "\n",
    "**TIP**: If the cell is too big and you need to understand what is going on, **SPLIT THE CELL!**. We will also discuss a scratchpad later"
   ]
  },
  {
   "cell_type": "code",
   "execution_count": null,
   "metadata": {
    "ExecuteTime": {
     "end_time": "2020-01-03T19:32:40.404096Z",
     "start_time": "2020-01-03T19:32:38.814414Z"
    },
    "slideshow": {
     "slide_type": "fragment"
    }
   },
   "outputs": [],
   "source": [
    "from sklearn.datasets import load_iris\n",
    "iris = load_iris();\n",
    "x_axis = iris.data[:, 0]\n",
    "y_axis = iris.data[:, 1]\n",
    "x_column_name = iris.feature_names[0]\n",
    "y_column_name = iris.feature_names[1]\n",
    "target = iris.target"
   ]
  },
  {
   "cell_type": "code",
   "execution_count": null,
   "metadata": {
    "ExecuteTime": {
     "end_time": "2020-01-03T19:32:40.617983Z",
     "start_time": "2020-01-03T19:32:40.407684Z"
    }
   },
   "outputs": [],
   "source": [
    "plt.scatter(x_axis, y_axis);"
   ]
  },
  {
   "cell_type": "markdown",
   "metadata": {
    "slideshow": {
     "slide_type": "notes"
    }
   },
   "source": [
    "Above is the scatter plot for iris data"
   ]
  },
  {
   "cell_type": "code",
   "execution_count": null,
   "metadata": {
    "ExecuteTime": {
     "end_time": "2020-01-03T19:32:40.830842Z",
     "start_time": "2020-01-03T19:32:40.620526Z"
    }
   },
   "outputs": [],
   "source": [
    "plt.scatter(x_axis, y_axis)\n",
    "plt.xlabel(x_column_name)\n",
    "plt.ylabel(y_column_name);"
   ]
  },
  {
   "cell_type": "code",
   "execution_count": null,
   "metadata": {
    "ExecuteTime": {
     "end_time": "2020-01-03T19:32:41.037460Z",
     "start_time": "2020-01-03T19:32:40.833854Z"
    }
   },
   "outputs": [],
   "source": [
    "plt.scatter(x_axis, y_axis)\n",
    "plt.xlabel(x_column_name)\n",
    "plt.ylabel(y_column_name)\n",
    "plt.title(\"Iris Dataset (%s vs. %s)\" % (x_column_name, y_column_name));"
   ]
  },
  {
   "cell_type": "code",
   "execution_count": null,
   "metadata": {
    "ExecuteTime": {
     "end_time": "2020-01-03T19:32:41.283404Z",
     "start_time": "2020-01-03T19:32:41.040317Z"
    }
   },
   "outputs": [],
   "source": [
    "plt.scatter(x_axis, y_axis, c=target)\n",
    "plt.xlabel(x_column_name)\n",
    "plt.ylabel(y_column_name)\n",
    "plt.title(\"Iris Dataset (%s vs. %s)\" % (x_column_name, y_column_name));"
   ]
  },
  {
   "cell_type": "code",
   "execution_count": null,
   "metadata": {
    "ExecuteTime": {
     "end_time": "2020-01-03T19:32:41.663062Z",
     "start_time": "2020-01-03T19:32:41.287718Z"
    }
   },
   "outputs": [],
   "source": [
    "# Make sure that figure is the first line\n",
    "plt.figure(figsize=(10,5))\n",
    "plt.scatter(x_axis, y_axis, c=target, alpha=0.5)\n",
    "plt.xlabel(x_column_name)\n",
    "plt.ylabel(y_column_name)\n",
    "plt.title(\"Iris Dataset (%s vs. %s)\" % (x_column_name, y_column_name));"
   ]
  },
  {
   "cell_type": "markdown",
   "metadata": {},
   "source": [
    "**Example 10:** Let's add a colormap. You can choose any kind of colormap and choose [your own color map](https://matplotlib.org/3.1.0/tutorials/colors/colormaps.html). Keep in mind accessibility, some colors are not distinguishable."
   ]
  },
  {
   "cell_type": "code",
   "execution_count": null,
   "metadata": {
    "ExecuteTime": {
     "end_time": "2020-01-03T19:32:42.010157Z",
     "start_time": "2020-01-03T19:32:41.671011Z"
    }
   },
   "outputs": [],
   "source": [
    "# Make sure that figure is the first line\n",
    "plt.figure(figsize=(10,5))\n",
    "plt.scatter(x_axis, y_axis, c=target, alpha=0.5, cmap='winter')\n",
    "plt.xlabel(x_column_name)\n",
    "plt.ylabel(y_column_name)\n",
    "plt.title(\"Iris Dataset (%s vs. %s)\" % (x_column_name, y_column_name));"
   ]
  },
  {
   "cell_type": "code",
   "execution_count": null,
   "metadata": {
    "ExecuteTime": {
     "end_time": "2020-01-03T19:32:42.923408Z",
     "start_time": "2020-01-03T19:32:42.015573Z"
    }
   },
   "outputs": [],
   "source": [
    "# Make sure that figure is the first line\n",
    "import seaborn as sns\n",
    "plt.figure(figsize=(10,5))\n",
    "sns.set_style(\"whitegrid\")\n",
    "plt.scatter(x_axis, y_axis, c=target, alpha=0.5, cmap='winter')\n",
    "plt.xlabel(x_column_name)\n",
    "plt.ylabel(y_column_name)\n",
    "plt.title(\"Iris Dataset (%s vs. %s)\" % (x_column_name, y_column_name));"
   ]
  },
  {
   "cell_type": "code",
   "execution_count": null,
   "metadata": {
    "ExecuteTime": {
     "end_time": "2020-01-03T19:32:43.526184Z",
     "start_time": "2020-01-03T19:32:42.927574Z"
    }
   },
   "outputs": [],
   "source": [
    "# Make sure that figure is the first line\n",
    "import seaborn as sns\n",
    "plt.figure(figsize=(10,5))\n",
    "sns.set_style(\"dark\")\n",
    "plt.scatter(x_axis, y_axis, c=target, alpha=0.5, cmap='winter')\n",
    "plt.xlabel(x_column_name)\n",
    "plt.ylabel(y_column_name)\n",
    "plt.title(\"Iris Dataset (%s vs. %s)\" % (x_column_name, y_column_name));"
   ]
  },
  {
   "cell_type": "code",
   "execution_count": null,
   "metadata": {
    "ExecuteTime": {
     "end_time": "2020-01-03T19:32:44.064295Z",
     "start_time": "2020-01-03T19:32:43.538410Z"
    }
   },
   "outputs": [],
   "source": [
    "# Make sure that figure is the first line\n",
    "import seaborn as sns\n",
    "plt.figure(figsize=(10,5))\n",
    "sns.set_style(\"darkgrid\")\n",
    "plt.scatter(x_axis, y_axis, c=target, alpha=0.5, cmap='winter')\n",
    "plt.xlabel(x_column_name)\n",
    "plt.ylabel(y_column_name)\n",
    "plt.title(\"Iris Dataset (%s vs. %s)\" % (x_column_name, y_column_name));"
   ]
  },
  {
   "cell_type": "code",
   "execution_count": null,
   "metadata": {
    "ExecuteTime": {
     "end_time": "2020-01-03T19:32:44.327760Z",
     "start_time": "2020-01-03T19:32:44.067224Z"
    }
   },
   "outputs": [],
   "source": [
    "# Make sure that figure is the first line\n",
    "import seaborn as sns\n",
    "plt.figure(figsize=(10,5))\n",
    "sns.set_style(\"ticks\")\n",
    "plt.scatter(x_axis, y_axis, c=target, alpha=0.5, cmap='winter')\n",
    "plt.xlabel(x_column_name)\n",
    "plt.ylabel(y_column_name)\n",
    "plt.title(\"Iris Dataset (%s vs. %s)\" % (x_column_name, y_column_name));"
   ]
  },
  {
   "cell_type": "markdown",
   "metadata": {},
   "source": [
    "What if we have only one set of data? How do we plot the distribution?"
   ]
  },
  {
   "cell_type": "code",
   "execution_count": null,
   "metadata": {
    "ExecuteTime": {
     "end_time": "2020-01-03T19:32:44.600083Z",
     "start_time": "2020-01-03T19:32:44.334458Z"
    }
   },
   "outputs": [],
   "source": [
    "x_axis = iris.data[:, 0]\n",
    "y_axis = np.zeros(iris.data.shape[0])\n",
    "import seaborn as sns\n",
    "plt.figure(figsize=(10,1))\n",
    "sns.set_style(\"ticks\")\n",
    "plt.scatter(x_axis, y_axis, c=target, alpha=0.5, cmap='winter')\n",
    "plt.xlabel(x_column_name)\n",
    "plt.title(\"Sepal Length Distribution\");\n"
   ]
  },
  {
   "cell_type": "code",
   "execution_count": null,
   "metadata": {
    "ExecuteTime": {
     "end_time": "2020-01-03T19:32:44.865637Z",
     "start_time": "2020-01-03T19:32:44.645777Z"
    }
   },
   "outputs": [],
   "source": [
    "x_axis = iris.data[:, 0]\n",
    "import seaborn as sns\n",
    "plt.figure(figsize=(10,5))\n",
    "sns.set_style(\"ticks\")\n",
    "plt.hist(x_axis)\n",
    "plt.title(\"Sepal Length Distribution\");"
   ]
  },
  {
   "cell_type": "code",
   "execution_count": null,
   "metadata": {
    "ExecuteTime": {
     "end_time": "2020-01-03T19:32:45.164677Z",
     "start_time": "2020-01-03T19:32:44.870955Z"
    }
   },
   "outputs": [],
   "source": [
    "x_axis = iris.data[:, 0]\n",
    "import seaborn as sns\n",
    "plt.figure(figsize=(10,5))\n",
    "sns.set_style(\"ticks\")\n",
    "plt.hist(x_axis, bins=20, histtype='stepfilled')\n",
    "plt.title(\"Sepal Length Distribution\");"
   ]
  },
  {
   "cell_type": "code",
   "execution_count": null,
   "metadata": {
    "ExecuteTime": {
     "end_time": "2020-01-03T19:32:45.597326Z",
     "start_time": "2020-01-03T19:32:45.167195Z"
    }
   },
   "outputs": [],
   "source": [
    "import seaborn as sns\n",
    "sns.set_style(\"ticks\")\n",
    "plt.figure(figsize=(10,5))\n",
    "\n",
    "#First plot the first column\n",
    "first_column = iris.data[:, 0]\n",
    "first_column_name = iris.feature_names[0]\n",
    "plt.hist(first_column, bins=20, alpha=0.5, histtype='stepfilled', label=\"%s Distribution\" % first_column_name);\n",
    "\n",
    "first_column = iris.data[:, 1]\n",
    "first_column_name = iris.feature_names[1]\n",
    "plt.hist(first_column, bins=20, alpha=0.5, histtype='stepfilled', label=\"%s Distribution\" % first_column_name);\n",
    "\n",
    "plt.title(\"Sepal Distribution\")\n",
    "plt.xlabel(\"Measurement (cm)\")\n",
    "plt.ylabel(\"Count\")\n",
    "plt.minorticks_on()\n",
    "plt.legend();"
   ]
  },
  {
   "cell_type": "code",
   "execution_count": null,
   "metadata": {
    "ExecuteTime": {
     "end_time": "2020-01-03T19:32:46.113241Z",
     "start_time": "2020-01-03T19:32:45.600661Z"
    }
   },
   "outputs": [],
   "source": [
    "import seaborn as sns\n",
    "sns.set_style(\"ticks\")\n",
    "plt.figure(figsize=(10,5))\n",
    "\n",
    "#First plot the first column\n",
    "first_column = iris.data[:, 2]\n",
    "first_column_name = iris.feature_names[2]\n",
    "plt.hist(first_column, bins=20, alpha=0.5, histtype='stepfilled', label=\"%s Distribution\" % first_column_name);\n",
    "\n",
    "first_column = iris.data[:, 3]\n",
    "first_column_name = iris.feature_names[3]\n",
    "plt.hist(first_column, bins=20, alpha=0.5, histtype='stepfilled', label=\"%s Distribution\" % first_column_name);\n",
    "\n",
    "plt.title(\"Petal Distribution\")\n",
    "plt.xlabel(\"Measurement (cm)\")\n",
    "plt.ylabel(\"Count\")\n",
    "plt.minorticks_on()\n",
    "plt.legend();"
   ]
  },
  {
   "cell_type": "code",
   "execution_count": null,
   "metadata": {
    "ExecuteTime": {
     "end_time": "2020-01-03T19:32:46.426889Z",
     "start_time": "2020-01-03T19:32:46.119655Z"
    }
   },
   "outputs": [],
   "source": [
    "import seaborn as sns\n",
    "sns.set_style(\"whitegrid\")\n",
    "plt.figure(figsize=(10,5))\n",
    "plt.boxplot(iris.data, labels=iris.feature_names, showmeans=True, meanline=True);"
   ]
  }
 ],
 "metadata": {
  "kernelspec": {
   "display_name": "Python 3",
   "language": "python",
   "name": "python3"
  },
  "language_info": {
   "codemirror_mode": {
    "name": "ipython",
    "version": 3
   },
   "file_extension": ".py",
   "mimetype": "text/x-python",
   "name": "python",
   "nbconvert_exporter": "python",
   "pygments_lexer": "ipython3",
   "version": "3.7.5"
  },
  "toc": {
   "base_numbering": 1,
   "nav_menu": {},
   "number_sections": true,
   "sideBar": true,
   "skip_h1_title": false,
   "title_cell": "Table of Contents",
   "title_sidebar": "Contents",
   "toc_cell": false,
   "toc_position": {},
   "toc_section_display": true,
   "toc_window_display": false
  }
 },
 "nbformat": 4,
 "nbformat_minor": 2
}
